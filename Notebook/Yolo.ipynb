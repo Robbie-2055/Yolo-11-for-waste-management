{
  "cells": [
    {
      "cell_type": "markdown",
      "metadata": {
        "id": "KYVEREbqhvZ2"
      },
      "source": [
        "# **Installing ultralytics**\n"
      ]
    },
    {
      "cell_type": "code",
      "execution_count": null,
      "metadata": {
        "id": "I_TJgo0Lgpz4"
      },
      "outputs": [],
      "source": [
        "!pip install ultralytics"
      ]
    },
    {
      "cell_type": "markdown",
      "source": [
        "# **Utilising the Nvidia GPU for faster processing time**"
      ],
      "metadata": {
        "id": "FAaD0Asx77eZ"
      }
    },
    {
      "cell_type": "code",
      "execution_count": null,
      "metadata": {
        "id": "CORL8w0glzrF"
      },
      "outputs": [],
      "source": [
        "!nvidia-smi"
      ]
    },
    {
      "cell_type": "markdown",
      "source": [
        "# **Importing Dataset from roboflow for Training, validation and testing**"
      ],
      "metadata": {
        "id": "tXXx_jRg8Jgg"
      }
    },
    {
      "cell_type": "code",
      "execution_count": null,
      "metadata": {
        "id": "xhcq03CEITpF"
      },
      "outputs": [],
      "source": [
        "#Downloadable from selected dataset from roboflow\n",
        "!pip install roboflow\n",
        "\n",
        "from roboflow import Roboflow\n",
        "rf = Roboflow(api_key=\"sw4qEJVULbJ77VNSAXor\")\n",
        "project = rf.workspace(\"vaniya\").project(\"waste_detection-2\")\n",
        "version = project.version(5)\n",
        "dataset = version.download(\"yolov11\")\n"
      ]
    },
    {
      "cell_type": "markdown",
      "metadata": {
        "id": "Qc-tb6U746E8"
      },
      "source": [
        "# **Training**"
      ]
    },
    {
      "cell_type": "code",
      "execution_count": null,
      "metadata": {
        "id": "0mQYzNf3iPbm"
      },
      "outputs": [],
      "source": [
        "from ultralytics import YOLO\n",
        "\n",
        "# Load a model\n",
        "model = YOLO(\"yolo11n.yaml\")  # build a new model from YAML\n",
        "model = YOLO(\"yolo11n.pt\")  # load a pretrained model (recommended for training)\n",
        "model = YOLO(\"yolo11n.yaml\").load(\"yolo11n.pt\")  # build from YAML and transfer weights\n",
        "\n",
        "\n",
        "# Train the model\n",
        "results = model.train(data=\"/content/waste_detection-2-5/data.yaml\", epochs=100, imgsz=640)\n"
      ]
    },
    {
      "cell_type": "markdown",
      "metadata": {
        "id": "prXTFtcqobqG"
      },
      "source": [
        "# **Validation**"
      ]
    },
    {
      "cell_type": "code",
      "execution_count": null,
      "metadata": {
        "id": "e3YjwyVRm6pb"
      },
      "outputs": [],
      "source": [
        "metrics = model.val(data=\"/content/waste_detection-2-5/data.yaml\", plots=True)\n",
        "print(metrics.box.map)  # map50-95\n",
        "print(metrics.confusion_matrix.to_sql())\n",
        "model.save('my_custom_model.pt')\n"
      ]
    },
    {
      "cell_type": "markdown",
      "source": [
        "# **Testing model**"
      ],
      "metadata": {
        "id": "f84YZnMt8t5s"
      }
    },
    {
      "cell_type": "code",
      "execution_count": null,
      "metadata": {
        "id": "ZKEZg2_P2-ne"
      },
      "outputs": [],
      "source": [
        "# Run inference on a video file\n",
        "from ultralytics import YOLO\n",
        "\n",
        "#model = YOLO(\"/content/my_custom_model.pt\") # loading custom trained network\n",
        "source= \"path/to/image/or/video\" # Replace with the path to your video file\n",
        "results = model(source)  # generator of Results objects\n",
        "\n",
        "# Process results generator\n",
        "for result in results:\n",
        "    boxes = result.boxes  # Boxes object for bounding box outputs\n",
        "    masks = result.masks  # Masks object for segmentation masks outputs\n",
        "    keypoints = result.keypoints  # Keypoints object for pose outputs\n",
        "    probs = result.probs  # Probs object for classification outputs\n",
        "    obb = result.obb  # Oriented boxes object for OBB outputs\n",
        "    result.show()  # display to screen"
      ]
    }
  ],
  "metadata": {
    "accelerator": "GPU",
    "colab": {
      "gpuType": "T4",
      "provenance": []
    },
    "kernelspec": {
      "display_name": "Python 3",
      "name": "python3"
    },
    "language_info": {
      "name": "python"
    }
  },
  "nbformat": 4,
  "nbformat_minor": 0
}